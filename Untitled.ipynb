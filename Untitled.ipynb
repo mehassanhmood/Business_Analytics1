{
 "cells": [
  {
   "cell_type": "code",
   "execution_count": 1,
   "id": "0ea15f5c-5ce6-42dc-a2a0-bd787ec0b814",
   "metadata": {
    "tags": []
   },
   "outputs": [],
   "source": [
    "from ibapi.client import EClient\n",
    "from ibapi.wrapper import EWrapper\n",
    "from ibapi.contract import Contract\n",
    "import threading\n",
    "import time\n",
    "import pandas as pd"
   ]
  },
  {
   "cell_type": "code",
   "execution_count": 2,
   "id": "c2b195bf-12b9-4f52-8733-7227aa56d0aa",
   "metadata": {
    "tags": []
   },
   "outputs": [],
   "source": [
    "class tradingApp(EClient,EWrapper):\n",
    "    def __init__(self):\n",
    "        EClient.__init__(self,self)\n",
    "        self.data = {}\n",
    "    # def contractDetails(self,reqId,contractDetails):\n",
    "        \n",
    "    def historicalData(self,reqId,bar):\n",
    "        if reqId not in self.data:\n",
    "            self.data[reqId] = [{'Date':bar.date,'Open':bar.open,'High':bar.high,'Low':bar.low,'Close':bar.close,'Volume':bar.volume}]\n",
    "        else:\n",
    "            self.data[reqId].append({'Date':bar.date,'Open':bar.open,'High':bar.high,'Low':bar.low,'Close':bar.close,'Volume':bar.volume})"
   ]
  },
  {
   "cell_type": "code",
   "execution_count": 3,
   "id": "29c66974-4bd4-4aca-b8bc-c4b73ae7099a",
   "metadata": {
    "tags": []
   },
   "outputs": [],
   "source": [
    "def stock_contract(symbol,secType ='STK',currency = 'USD',exchange= 'SMART'):\n",
    "        contract = Contract()\n",
    "        contract.symbol = symbol\n",
    "        contract.secType = secType\n",
    "        contract.currency =currency\n",
    "        contract.exchange = exchange\n",
    "        return contract\n",
    "def histData(app,req_num,con,duration,candleSize):\n",
    "\n",
    "        x=app.reqHistoricalData(reqId=req_num,\n",
    "                      contract=con,\n",
    "                      endDateTime='',\n",
    "                      durationStr=duration,\n",
    "                      barSizeSetting=candleSize,\n",
    "                      whatToShow='TRADES',\n",
    "                      useRTH=True,\n",
    "                      formatDate=1,\n",
    "                      keepUpToDate=False,\n",
    "                      chartOptions=[])"
   ]
  },
  {
   "cell_type": "code",
   "execution_count": 5,
   "id": "6286c681-0065-4cb5-98bb-37314408edb8",
   "metadata": {
    "tags": []
   },
   "outputs": [],
   "source": [
    "def web_socket():\n",
    "        app.run()\n",
    "def start_loop():\n",
    "    thr = threading.Thread(target=web_socket,daemon=True)\n",
    "    thr.start()"
   ]
  },
  {
   "cell_type": "code",
   "execution_count": 6,
   "id": "31d30135-f16b-49a2-8b29-39a0a55b2899",
   "metadata": {
    "tags": []
   },
   "outputs": [],
   "source": [
    "app = tradingApp()\n",
    "app.connect(\"127.0.0.1\",7497 , clientId=33)"
   ]
  },
  {
   "cell_type": "code",
   "execution_count": 7,
   "id": "8402b472-6a16-442c-ab54-376c1ef55af6",
   "metadata": {
    "tags": []
   },
   "outputs": [
    {
     "name": "stderr",
     "output_type": "stream",
     "text": [
      "ERROR -1 2104 Market data farm connection is OK:usfarm\n",
      "ERROR -1 2106 HMDS data farm connection is OK:euhmds\n",
      "ERROR -1 2106 HMDS data farm connection is OK:cashhmds\n",
      "ERROR -1 2106 HMDS data farm connection is OK:fundfarm\n",
      "ERROR -1 2106 HMDS data farm connection is OK:ushmds\n",
      "ERROR -1 2158 Sec-def data farm connection is OK:secdefnj\n"
     ]
    }
   ],
   "source": [
    "start_loop()"
   ]
  },
  {
   "cell_type": "code",
   "execution_count": 26,
   "id": "a7172ee8-f938-4fb9-83fb-ef2235dad7b3",
   "metadata": {
    "tags": []
   },
   "outputs": [],
   "source": [
    "ticker  = ['NVDA','SBLK','BBH','BTU','ALB']"
   ]
  },
  {
   "cell_type": "code",
   "execution_count": 27,
   "id": "71cf692f-996f-438f-b95e-ae7fb32d17ed",
   "metadata": {
    "tags": []
   },
   "outputs": [
    {
     "data": {
      "text/plain": [
       "0"
      ]
     },
     "execution_count": 27,
     "metadata": {},
     "output_type": "execute_result"
    }
   ],
   "source": [
    "ticker.index('NVDA')"
   ]
  },
  {
   "cell_type": "code",
   "execution_count": 28,
   "id": "95e8144f-92da-4d9f-b5d0-4bad384e4ff3",
   "metadata": {
    "tags": []
   },
   "outputs": [],
   "source": [
    "def data_df(trade_app, ticker_list):\n",
    "    app.reqMarketDataType(3)\n",
    "    df_dict = {}\n",
    "\n",
    "    for i, ticker in enumerate(ticker_list):\n",
    "        req_num = i + 1  # reqId should start from 1\n",
    "        histData(trade_app, req_num, con=stock_contract(symbol=ticker), duration='5 Y', candleSize='1 day')\n",
    "\n",
    "        if req_num in trade_app.data:\n",
    "            df_dict[ticker] = pd.DataFrame(trade_app.data[req_num])\n",
    "            df_dict[ticker].set_index('Date', inplace=True)\n",
    "        else:\n",
    "            print(f\"No data received for {ticker}\")\n",
    "\n",
    "    return df_dict\n",
    "\n",
    "ohlc = data_df(app, ticker)\n"
   ]
  },
  {
   "cell_type": "code",
   "execution_count": 29,
   "id": "fb6bda61-65a4-472d-ade3-29aeb43a76bc",
   "metadata": {
    "tags": []
   },
   "outputs": [
    {
     "data": {
      "text/plain": [
       "dict_keys(['NVDA', 'SBLK', 'BBH', 'BTU', 'ALB'])"
      ]
     },
     "execution_count": 29,
     "metadata": {},
     "output_type": "execute_result"
    }
   ],
   "source": [
    "ohlc.keys()"
   ]
  },
  {
   "cell_type": "code",
   "execution_count": 30,
   "id": "981a8510-9a19-4a95-8f30-67ac38706010",
   "metadata": {},
   "outputs": [],
   "source": [
    "for i in ohlc.keys():\n",
    "    ohlc[i].to_csv(f'{i}.csv')"
   ]
  },
  {
   "cell_type": "code",
   "execution_count": null,
   "id": "a9cc56e2-5486-4628-bfbe-f53a719b7fae",
   "metadata": {},
   "outputs": [],
   "source": []
  }
 ],
 "metadata": {
  "kernelspec": {
   "display_name": "Python 3 (ipykernel)",
   "language": "python",
   "name": "python3"
  },
  "language_info": {
   "codemirror_mode": {
    "name": "ipython",
    "version": 3
   },
   "file_extension": ".py",
   "mimetype": "text/x-python",
   "name": "python",
   "nbconvert_exporter": "python",
   "pygments_lexer": "ipython3",
   "version": "3.11.4"
  }
 },
 "nbformat": 4,
 "nbformat_minor": 5
}
